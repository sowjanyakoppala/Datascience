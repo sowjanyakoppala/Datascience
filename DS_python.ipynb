{
 "cells": [
  {
   "cell_type": "code",
   "execution_count": 23,
   "metadata": {
    "scrolled": true
   },
   "outputs": [
    {
     "name": "stdout",
     "output_type": "stream",
     "text": [
      "Hi..! Welcome to Data Science\n"
     ]
    }
   ],
   "source": [
    "S=\"Hi..! Welcome to Data Science\"\n",
    "print(S)"
   ]
  },
  {
   "cell_type": "code",
   "execution_count": 24,
   "metadata": {},
   "outputs": [
    {
     "name": "stdout",
     "output_type": "stream",
     "text": [
      "Python Basics - Assignment\n"
     ]
    }
   ],
   "source": [
    "msg='Python Basics - Assignment'\n",
    "print(msg)"
   ]
  },
  {
   "cell_type": "code",
   "execution_count": 25,
   "metadata": {},
   "outputs": [
    {
     "name": "stdout",
     "output_type": "stream",
     "text": [
      "new message\n"
     ]
    }
   ],
   "source": [
    "msg=\"new message\"\n",
    "print(msg)"
   ]
  },
  {
   "cell_type": "code",
   "execution_count": 26,
   "metadata": {},
   "outputs": [
    {
     "name": "stdout",
     "output_type": "stream",
     "text": [
      "Quote said by Virgil-“Fortune favors the bold.”\n"
     ]
    }
   ],
   "source": [
    "p='Virgil-“Fortune favors the bold.”'\n",
    "print(\"Quote said by\",p,)"
   ]
  },
  {
   "cell_type": "code",
   "execution_count": 27,
   "metadata": {},
   "outputs": [
    {
     "name": "stdout",
     "output_type": "stream",
     "text": [
      "Virgil - once said “Fortune favors the bold..!”\n"
     ]
    }
   ],
   "source": [
    "famous_person='Virgil'\n",
    "mesg= f\"{famous_person} - once said “Fortune favors the bold..!”\"\n",
    "print(mesg)"
   ]
  },
  {
   "cell_type": "code",
   "execution_count": 28,
   "metadata": {},
   "outputs": [
    {
     "name": "stdout",
     "output_type": "stream",
     "text": [
      "8\n",
      "8\n",
      "8\n",
      "8\n"
     ]
    }
   ],
   "source": [
    "#the operations are done below for 8 as a output.\n",
    "print(4*2)\n",
    "print(4+4)\n",
    "print(9-1)\n",
    "print(round(8/1))"
   ]
  },
  {
   "cell_type": "code",
   "execution_count": 29,
   "metadata": {},
   "outputs": [
    {
     "name": "stdout",
     "output_type": "stream",
     "text": [
      "My fav number is 8.\n"
     ]
    }
   ],
   "source": [
    "# This program reveals my fav number\n",
    "fav_number=8\n",
    "word= f\"My fav number is {fav_number}.\"\n",
    "print(word)"
   ]
  },
  {
   "cell_type": "code",
   "execution_count": 30,
   "metadata": {},
   "outputs": [
    {
     "name": "stdout",
     "output_type": "stream",
     "text": [
      "My name is maddy\n",
      "My name is sandy\n",
      "My name is candy\n",
      "My name is goldy\n"
     ]
    }
   ],
   "source": [
    "name=['maddy','sandy','candy','goldy']\n",
    "for i in name:\n",
    "    m=f\"My name is {i}\"\n",
    "    print(m)"
   ]
  },
  {
   "cell_type": "code",
   "execution_count": 31,
   "metadata": {},
   "outputs": [
    {
     "name": "stdout",
     "output_type": "stream",
     "text": [
      "I would like to own a Benz Car\n",
      "I would like to own a Audi Car\n",
      "I would like to own a Honda Car\n",
      "I would like to own a Ferrari Car\n"
     ]
    }
   ],
   "source": [
    "store=['I would like to own a Benz Car','I would like to own a Audi Car','I would like to own a Honda Car','I would like to own a Ferrari Car']\n",
    "for i in store:\n",
    "    print(i)"
   ]
  },
  {
   "cell_type": "code",
   "execution_count": null,
   "metadata": {},
   "outputs": [],
   "source": []
  },
  {
   "cell_type": "code",
   "execution_count": null,
   "metadata": {},
   "outputs": [],
   "source": []
  }
 ],
 "metadata": {
  "kernelspec": {
   "display_name": "Python 3",
   "language": "python",
   "name": "python3"
  },
  "language_info": {
   "codemirror_mode": {
    "name": "ipython",
    "version": 3
   },
   "file_extension": ".py",
   "mimetype": "text/x-python",
   "name": "python",
   "nbconvert_exporter": "python",
   "pygments_lexer": "ipython3",
   "version": "3.7.1"
  }
 },
 "nbformat": 4,
 "nbformat_minor": 2
}
